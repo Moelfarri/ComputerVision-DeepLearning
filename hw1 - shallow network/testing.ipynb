{
 "cells": [
  {
   "cell_type": "code",
   "execution_count": 1,
   "metadata": {},
   "outputs": [
    {
     "name": "stdout",
     "output_type": "stream",
     "text": [
      "[[[1. 1. 5. ... 1. 1. 1.]\n",
      "  [1. 1. 5. ... 1. 1. 1.]\n",
      "  [1. 1. 5. ... 1. 1. 1.]\n",
      "  ...\n",
      "  [1. 1. 5. ... 1. 1. 1.]\n",
      "  [1. 1. 5. ... 1. 1. 1.]\n",
      "  [1. 1. 5. ... 1. 1. 1.]]\n",
      "\n",
      " [[1. 1. 5. ... 1. 1. 1.]\n",
      "  [1. 1. 5. ... 1. 1. 1.]\n",
      "  [1. 1. 5. ... 1. 1. 1.]\n",
      "  ...\n",
      "  [1. 1. 5. ... 1. 1. 1.]\n",
      "  [1. 1. 5. ... 1. 1. 1.]\n",
      "  [1. 1. 5. ... 1. 1. 1.]]]\n"
     ]
    }
   ],
   "source": [
    "import numpy as np\n",
    "\n",
    "#X = np.random.randint(0,256,(28,28))\n",
    "#R = np.ones((2,28,28))\n",
    "#R[:,:,2] = 5 \n",
    "#print(R)"
   ]
  },
  {
   "cell_type": "code",
   "execution_count": 162,
   "metadata": {},
   "outputs": [
    {
     "name": "stdout",
     "output_type": "stream",
     "text": [
      "g\n"
     ]
    }
   ],
   "source": [
    "X =  -1 + (X - X.min())/(X.max() - X.min())*2\n",
    "X\n",
    "print(\"g\")"
   ]
  },
  {
   "cell_type": "code",
   "execution_count": 18,
   "metadata": {},
   "outputs": [
    {
     "data": {
      "text/plain": [
       "1.0"
      ]
     },
     "execution_count": 18,
     "metadata": {},
     "output_type": "execute_result"
    }
   ],
   "source": [
    "X.max()"
   ]
  },
  {
   "cell_type": "code",
   "execution_count": 19,
   "metadata": {},
   "outputs": [
    {
     "data": {
      "text/plain": [
       "-1.0"
      ]
     },
     "execution_count": 19,
     "metadata": {},
     "output_type": "execute_result"
    }
   ],
   "source": [
    "X.min()"
   ]
  },
  {
   "cell_type": "code",
   "execution_count": 163,
   "metadata": {},
   "outputs": [],
   "source": [
    "def pre_process_images(X: np.ndarray):\n",
    "    \"\"\"\n",
    "    Args:\n",
    "        X: images of shape [batch size, 784] in the range (0, 255)\n",
    "    Returns:\n",
    "        X: images of shape [batch size, 785] in the range (-1, 1)\n",
    "    \"\"\"\n",
    "    \n",
    "    #[0,255] to [-1,1] conversion:\n",
    "    X =  -1 + (X - X.min())/(X.max() - X.min())*2\n",
    "  \n",
    "    #reshape for bias trick\n",
    "    X = X.reshape(len(X),784)\n",
    "    \n",
    "    assert X.shape[1] == 784,\\\n",
    "        f\"X.shape[1]: {X.shape[1]}, should be 784\"\n",
    "    X = np.insert(X, obj=X[0].size, values=1, axis=1)\n",
    "\n",
    "    return X"
   ]
  },
  {
   "cell_type": "code",
   "execution_count": 176,
   "metadata": {},
   "outputs": [],
   "source": [
    "X = pre_process_images(R)"
   ]
  },
  {
   "cell_type": "code",
   "execution_count": 179,
   "metadata": {},
   "outputs": [
    {
     "data": {
      "text/plain": [
       "785"
      ]
     },
     "execution_count": 179,
     "metadata": {},
     "output_type": "execute_result"
    }
   ],
   "source": [
    "len(X)"
   ]
  },
  {
   "cell_type": "code",
   "execution_count": 113,
   "metadata": {},
   "outputs": [
    {
     "data": {
      "text/plain": [
       "(1, 785)"
      ]
     },
     "execution_count": 113,
     "metadata": {},
     "output_type": "execute_result"
    }
   ],
   "source": [
    "    def forward(self, X: np.ndarray) -> np.ndarray:\n",
    "        \"\"\"\n",
    "        Args:\n",
    "            X: images of shape [batch size, 785]\n",
    "        Returns:\n",
    "            y: output of model with shape [batch size, 1]\n",
    "        \"\"\"\n",
    " \n",
    "        1/(1+e^(-w.dot(x)))\n",
    "        # TODO implement this function (Task 2a)\n",
    "        return None"
   ]
  },
  {
   "cell_type": "code",
   "execution_count": 279,
   "metadata": {},
   "outputs": [
    {
     "name": "stdout",
     "output_type": "stream",
     "text": [
      "[[0.73105858]\n",
      " [0.73105858]]\n"
     ]
    }
   ],
   "source": [
    "w = np.zeros((X.shape[1],1))\n",
    "w[w.shape[0]-1,0] = 1.0\n",
    "#w = w.reshape((1,X.shape[1]))\n",
    "\n",
    "r = np.array([1/(1+np.exp(-w.reshape((1,X.shape[1])).dot(X[i]))) for i in range(len(X))])\n",
    "print(r)"
   ]
  },
  {
   "cell_type": "code",
   "execution_count": 273,
   "metadata": {},
   "outputs": [],
   "source": [
    "#r = #[for i in w.dot(X[i])]\n"
   ]
  },
  {
   "cell_type": "code",
   "execution_count": 257,
   "metadata": {},
   "outputs": [],
   "source": [
    "a = np.array([-2,4])\n",
    "b = np.array([100,1])"
   ]
  },
  {
   "cell_type": "code",
   "execution_count": 289,
   "metadata": {},
   "outputs": [],
   "source": [
    "r = np.array([[5,5,5],[5,5,5]])\n",
    "d = np.array([[1,2,3],[4,5,6]])\n"
   ]
  },
  {
   "cell_type": "code",
   "execution_count": 292,
   "metadata": {},
   "outputs": [
    {
     "data": {
      "text/plain": [
       "array([1, 4])"
      ]
     },
     "execution_count": 292,
     "metadata": {},
     "output_type": "execute_result"
    }
   ],
   "source": [
    "d[:,0]"
   ]
  },
  {
   "cell_type": "code",
   "execution_count": 301,
   "metadata": {},
   "outputs": [
    {
     "data": {
      "text/plain": [
       "array([[-1., -1.,  1., ..., -1., -1.,  1.],\n",
       "       [-1., -1.,  1., ..., -1., -1.,  1.]])"
      ]
     },
     "execution_count": 301,
     "metadata": {},
     "output_type": "execute_result"
    }
   ],
   "source": [
    "X"
   ]
  },
  {
   "cell_type": "code",
   "execution_count": 316,
   "metadata": {},
   "outputs": [
    {
     "data": {
      "text/plain": [
       "(785, 1)"
      ]
     },
     "execution_count": 316,
     "metadata": {},
     "output_type": "execute_result"
    }
   ],
   "source": [
    "s = np.sum(X, axis = 0)\n",
    "\n",
    "s = s.reshape(-1,1)\n",
    "s.shape"
   ]
  },
  {
   "cell_type": "code",
   "execution_count": 19,
   "metadata": {},
   "outputs": [
    {
     "name": "stdout",
     "output_type": "stream",
     "text": [
      "[[1. 0. 1. 0. 0. 1.]]\n",
      "[[1 0 0 1 0 1]]\n",
      "[[ True  True False False  True  True]]\n",
      "4\n"
     ]
    }
   ],
   "source": [
    "output = np.array([[0.5,0.4,0.7,0.1,0.2,0.6]]).T\n",
    "targets = np.array([[1,0,0,1,0,1]]).T\n",
    "\n",
    "predictions  = np.where(output >= 0.5, 1, np.zeros(output.shape))\n",
    "correct_pred = np.count_nonzero(predictions == targets)\n",
    "\n",
    "print(predictions.T)\n",
    "print(targets.T)\n",
    "print((predictions == targets).T)\n",
    "print(correct_pred)"
   ]
  },
  {
   "cell_type": "code",
   "execution_count": 13,
   "metadata": {},
   "outputs": [
    {
     "data": {
      "text/plain": [
       "(6, 1)"
      ]
     },
     "execution_count": 13,
     "metadata": {},
     "output_type": "execute_result"
    }
   ],
   "source": []
  },
  {
   "cell_type": "code",
   "execution_count": 31,
   "metadata": {},
   "outputs": [],
   "source": [
    "for i in range(10):\n",
    "    try:\n",
    "        lowest_val_loss\n",
    "        #print(lowest_val_loss)\n",
    "    except NameError:\n",
    "        lowest_val_loss = np.inf\n",
    "        early_stop_counter     = 0\n",
    "    if i < lowest_val_loss:\n",
    "        print(i)\n",
    "        lowest_val_loss = i\n",
    "\n",
    "#print(lowest_val_loss)"
   ]
  },
  {
   "cell_type": "code",
   "execution_count": 28,
   "metadata": {},
   "outputs": [
    {
     "data": {
      "text/plain": [
       "inf"
      ]
     },
     "execution_count": 28,
     "metadata": {},
     "output_type": "execute_result"
    }
   ],
   "source": []
  },
  {
   "cell_type": "code",
   "execution_count": 59,
   "metadata": {},
   "outputs": [
    {
     "data": {
      "text/plain": [
       "array([[0., 0., 0., ..., 0., 0., 0.],\n",
       "       [1., 1., 1., ..., 1., 1., 1.],\n",
       "       [2., 2., 2., ..., 2., 2., 2.],\n",
       "       ...,\n",
       "       [7., 7., 7., ..., 7., 7., 7.],\n",
       "       [8., 8., 8., ..., 8., 8., 8.],\n",
       "       [9., 9., 9., ..., 9., 9., 9.]])"
      ]
     },
     "execution_count": 59,
     "metadata": {},
     "output_type": "execute_result"
    }
   ],
   "source": [
    "R = np.zeros((10,784))\n",
    "y = np.array([0,1,2,3,4,5,6,7,8,9])\n",
    "for i in range(10):\n",
    "    R[i,:] = i\n",
    "R"
   ]
  },
  {
   "cell_type": "code",
   "execution_count": 60,
   "metadata": {},
   "outputs": [
    {
     "name": "stdout",
     "output_type": "stream",
     "text": [
      "[[9. 9. 9. ... 9. 9. 9.]\n",
      " [3. 3. 3. ... 3. 3. 3.]\n",
      " [6. 6. 6. ... 6. 6. 6.]\n",
      " ...\n",
      " [2. 2. 2. ... 2. 2. 2.]\n",
      " [1. 1. 1. ... 1. 1. 1.]\n",
      " [5. 5. 5. ... 5. 5. 5.]]\n",
      "[9. 3. 6. 7. 8. 0. 4. 2. 1. 5.]\n"
     ]
    }
   ],
   "source": [
    "#SHUFFLE DATA LOOKING ASS:\n",
    "d = np.zeros((len(R),R.shape[1]+1))\n",
    "d[:,:-1] = R\n",
    "d[:,R.shape[1]] = y.T\n",
    "np.random.shuffle(d)\n",
    "\n",
    "#ha shuffled R og y tilbake i sine plasser\n",
    "R = d[:,:-1]\n",
    "y = d[:,R.shape[1]].T \n",
    "print(R)\n",
    "print(y)\n",
    "\n",
    "\n",
    "\n"
   ]
  },
  {
   "cell_type": "code",
   "execution_count": 61,
   "metadata": {},
   "outputs": [
    {
     "name": "stdout",
     "output_type": "stream",
     "text": [
      "(10,)\n"
     ]
    },
    {
     "data": {
      "text/plain": [
       "(10, 1)"
      ]
     },
     "execution_count": 61,
     "metadata": {},
     "output_type": "execute_result"
    }
   ],
   "source": [
    "print(y.shape)\n",
    "y = np.array([y]).T\n",
    "y.shape\n"
   ]
  },
  {
   "cell_type": "code",
   "execution_count": 3,
   "metadata": {},
   "outputs": [
    {
     "name": "stdout",
     "output_type": "stream",
     "text": [
      "[[3]\n",
      " [9]\n",
      " [0]\n",
      " [0]]\n",
      "[0 1 2 3 4 5 6 7 8 9]\n",
      "[[0 0 0 1 0 0 0 0 0 0]\n",
      " [0 0 0 0 0 0 0 0 0 1]\n",
      " [1 0 0 0 0 0 0 0 0 0]\n",
      " [1 0 0 0 0 0 0 0 0 0]]\n"
     ]
    }
   ],
   "source": [
    "import numpy as np\n",
    "\n",
    "def one_hot_encode(Y: np.ndarray, num_classes: int):\n",
    "    return (np.arange(num_classes) == Y).astype(int)\n",
    "\n",
    "\n",
    "Y = np.zeros((4, 1), dtype=int)\n",
    "Y[0, 0] = 3\n",
    "Y[1,0]  = 9\n",
    "\n",
    "print(Y)\n",
    "print(np.arange(10))\n",
    "Y = one_hot_encode(Y, 10)\n",
    "print(Y)"
   ]
  },
  {
   "cell_type": "code",
   "execution_count": 86,
   "metadata": {},
   "outputs": [
    {
     "name": "stdout",
     "output_type": "stream",
     "text": [
      "(2, 10)\n",
      "[[0.1 0.1 0.1 0.1 0.1 0.1 0.1 0.1 0.1 0.1]\n",
      " [0.1 0.1 0.1 0.1 0.1 0.1 0.1 0.1 0.1 0.1]]\n"
     ]
    }
   ],
   "source": [
    "#Testing forward\n",
    "I           = 785\n",
    "num_outputs = 10\n",
    "batch_size  = 2\n",
    "w = np.zeros((I, num_outputs))\n",
    "x = np.zeros((batch_size,I))\n",
    "\n",
    "def forward(X: np.ndarray,w) -> np.ndarray:\n",
    "    \"\"\"\n",
    "    Args:\n",
    "        X: images of shape [batch size, 785]\n",
    "    Returns:\n",
    "        y: output of model with shape [batch size, num_outputs]\n",
    "    \"\"\"\n",
    "    # TODO implement this function (Task 3a)\n",
    "\n",
    "    out = (np.exp(X.dot(w)) / np.array([np.sum(np.exp(X.dot(w)),  axis=1)]).T)\n",
    "\n",
    "\n",
    "    return out\n",
    "\n",
    "test = forward(x,w)\n",
    "print(test.shape)\n",
    "print(test)"
   ]
  },
  {
   "cell_type": "code",
   "execution_count": 108,
   "metadata": {},
   "outputs": [
    {
     "name": "stdout",
     "output_type": "stream",
     "text": [
      "(2,)\n",
      "()\n"
     ]
    }
   ],
   "source": [
    "#test cross entropy implementation\n",
    "targets = np.ones((batch_size,num_outputs))\n",
    "outputs = np.ones((batch_size,num_outputs))\n",
    "average_cost = -np.sum(targets*(np.log(outputs)),axis=1)\n",
    "\n",
    "print(average_cost.shape)\n",
    "average_cost = (1/batch_size)*np.sum(average_cost)\n",
    "print(average_cost.shape)\n",
    "\n",
    "#np.mean(-np.sum(targets * np.log(outputs), axis = 1))"
   ]
  },
  {
   "cell_type": "code",
   "execution_count": 105,
   "metadata": {},
   "outputs": [
    {
     "name": "stdout",
     "output_type": "stream",
     "text": [
      "[4 2]\n"
     ]
    }
   ],
   "source": [
    "t = np.sum([[2,2]\n",
    "            ,[1,1]],axis=1) #[4 2] so it sums the rows together\n",
    "\n"
   ]
  },
  {
   "cell_type": "code",
   "execution_count": 152,
   "metadata": {},
   "outputs": [
    {
     "name": "stdout",
     "output_type": "stream",
     "text": [
      "1.0\n"
     ]
    }
   ],
   "source": [
    "output = np.array([[0,0.5,0,0.6,0,0,0,0,0,0],[0,0.2,0,0.3,0,0,0,0,0,0.9]])\n",
    "output.shape\n",
    "targets = np.array([[0,0,0,1,0,0,0,0,0,0],[0,0,0,0,0,0,0,0,0,1]])\n",
    "    \n",
    "predictions  = np.where(output >= 0.5, 1, np.zeros(output.shape))\n",
    "correct_pred = np.sum(targets*predictions)\n",
    "total_pred   = output.shape[0]\n",
    "accuracy     = correct_pred/total_pred\n",
    "print(np.sum(targets*predictions)/output.shape[0])\n",
    "\n",
    " "
   ]
  },
  {
   "cell_type": "code",
   "execution_count": 199,
   "metadata": {},
   "outputs": [
    {
     "name": "stdout",
     "output_type": "stream",
     "text": [
      "[[3]\n",
      " [9]]\n"
     ]
    },
    {
     "data": {
      "text/plain": [
       "array([[0, 0, 0, 1, 0, 0, 0, 0, 0, 0],\n",
       "       [0, 0, 0, 0, 0, 0, 0, 0, 0, 1]])"
      ]
     },
     "execution_count": 199,
     "metadata": {},
     "output_type": "execute_result"
    }
   ],
   "source": [
    "def one_hot_encode(Y: np.ndarray, num_classes: int):\n",
    "    \"\"\"\n",
    "    Args:\n",
    "        Y: shape [Num examples, 1]\n",
    "        num_classes: Number of classes to use for one-hot encoding\n",
    "    Returns:\n",
    "        Y: shape [Num examples, num classes]\n",
    "    \"\"\"\n",
    "    return (np.arange(num_classes) == Y).astype(int)\n",
    "\n",
    "predictions = np.array([np.argmax(output, axis=1)]).T\n",
    "print(predictions)\n",
    "\n",
    "\n",
    "#accuracy = np.sum(predictions * targets) / targets.shape[0]\n",
    "\n",
    "one_hot_encode(predictions,10)\n"
   ]
  },
  {
   "cell_type": "code",
   "execution_count": 10,
   "metadata": {},
   "outputs": [
    {
     "data": {
      "text/plain": [
       "0"
      ]
     },
     "execution_count": 10,
     "metadata": {},
     "output_type": "execute_result"
    }
   ],
   "source": []
  },
  {
   "cell_type": "code",
   "execution_count": 29,
   "metadata": {},
   "outputs": [],
   "source": [
    "import numpy as np\n",
    "\n",
    "\n",
    "#STRATEGI:\n",
    "#0. aksesser vektene\n",
    "#1. fjern siste element fra (785,10) --> (784,10)\n",
    "#2. reshape til (28,28,10)\n",
    "#3. reshape til (28,280) for å få alle på langs\n",
    "\n",
    "# for visualisering\n",
    "w = np.ones((785,10))\n",
    "w[:,0] = 0\n",
    "w[:,1] = 1\n",
    "w[:,2] = 2\n",
    "w[784,:] = 500\n",
    "\n",
    "#1.\n",
    "w = np.delete(w,784,axis=0)\n",
    "\n",
    "#2./3.\n",
    "w_img = np.zeros((28,280))\n",
    "for i in range(10):\n",
    "    w_img[:,(0+28*i):28*(i+1)] = np.reshape(w[:,i],(28,28))\n",
    "\n",
    "    \n"
   ]
  },
  {
   "cell_type": "code",
   "execution_count": 33,
   "metadata": {},
   "outputs": [
    {
     "data": {
      "text/plain": [
       "array([[20,  8],\n",
       "       [ 8,  5]])"
      ]
     },
     "execution_count": 33,
     "metadata": {},
     "output_type": "execute_result"
    }
   ],
   "source": [
    "import numpy as np\n",
    "a = np.array([[4, 1], [2, 2]])\n",
    "b = np.array([[4, 1], [2, 2]])\n",
    "np.dot(a.T, b)"
   ]
  },
  {
   "cell_type": "code",
   "execution_count": 15,
   "metadata": {},
   "outputs": [
    {
     "name": "stdout",
     "output_type": "stream",
     "text": [
      "[2, 3, 4]\n"
     ]
    },
    {
     "data": {
      "image/png": "[encoded data removed]",
      "text/plain": [
       "<Figure size 432x288 with 1 Axes>"
      ]
     },
     "metadata": {
      "needs_background": "light"
     },
     "output_type": "display_data"
    }
   ],
   "source": [
    "p = [4,3,2]\n",
    "print(p[::-1])\n",
    "\n",
    "import matplotlib.pyplot as plt\n",
    "\n",
    "plt.ylim([-5, 20])\n",
    "plt.plot([1,0.1,0.01],[4,3,1])\n",
    "plt.gca().invert_yaxis()\n",
    "plt.show()"
   ]
  },
  {
   "cell_type": "code",
   "execution_count": null,
   "metadata": {},
   "outputs": [],
   "source": []
  }
 ],
 "metadata": {
  "kernelspec": {
   "display_name": "Python 3",
   "language": "python",
   "name": "python3"
  },
  "language_info": {
   "codemirror_mode": {
    "name": "ipython",
    "version": 3
   },
   "file_extension": ".py",
   "mimetype": "text/x-python",
   "name": "python",
   "nbconvert_exporter": "python",
   "pygments_lexer": "ipython3",
   "version": "3.6.6"
  }
 },
 "nbformat": 4,
 "nbformat_minor": 4
}
